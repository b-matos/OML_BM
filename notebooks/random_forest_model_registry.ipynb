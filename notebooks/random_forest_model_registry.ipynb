{
 "cells": [
  {
   "cell_type": "markdown",
   "metadata": {},
   "source": [
    "Dataset: https://www.kaggle.com/uciml/default-of-credit-card-clients-dataset\n",
    "\n",
    "Variáveis disponíveis:\n",
    "\n",
    "    ID: ID of each client\n",
    "    LIMIT_BAL: Amount of given credit in NT dollars (includes individual and family/supplementary credit\n",
    "    SEX: Gender (1=male, 2=female)\n",
    "    EDUCATION: (1=graduate school, 2=university, 3=high school, 4=others, 5=unknown, 6=unknown)\n",
    "    MARRIAGE: Marital status (1=married, 2=single, 3=others)\n",
    "    AGE: Age in years\n",
    "    PAY_0: Repayment status in September, 2005 (-1=pay duly, 1=payment delay for one month, 2=payment delay for two months, ... 8=payment delay for eight months, 9=payment delay for nine months and above)\n",
    "    PAY_2: Repayment status in August, 2005 (scale same as above)\n",
    "    PAY_3: Repayment status in July, 2005 (scale same as above)\n",
    "    PAY_4: Repayment status in June, 2005 (scale same as above)\n",
    "    PAY_5: Repayment status in May, 2005 (scale same as above)\n",
    "    PAY_6: Repayment status in April, 2005 (scale same as above)\n",
    "    BILL_AMT1: Amount of bill statement in September, 2005 (NT dollar)\n",
    "    BILL_AMT2: Amount of bill statement in August, 2005 (NT dollar)\n",
    "    BILL_AMT3: Amount of bill statement in July, 2005 (NT dollar)\n",
    "    BILL_AMT4: Amount of bill statement in June, 2005 (NT dollar)\n",
    "    BILL_AMT5: Amount of bill statement in May, 2005 (NT dollar)\n",
    "    BILL_AMT6: Amount of bill statement in April, 2005 (NT dollar)\n",
    "    PAY_AMT1: Amount of previous payment in September, 2005 (NT dollar)\n",
    "    PAY_AMT2: Amount of previous payment in August, 2005 (NT dollar)\n",
    "    PAY_AMT3: Amount of previous payment in July, 2005 (NT dollar)\n",
    "    PAY_AMT4: Amount of previous payment in June, 2005 (NT dollar)\n",
    "    PAY_AMT5: Amount of previous payment in May, 2005 (NT dollar)\n",
    "    PAY_AMT6: Amount of previous payment in April, 2005 (NT dollar)\n",
    "    default.payment.next.month: Default payment (1=yes, 0=no)"
   ]
  },
  {
   "cell_type": "code",
   "execution_count": 1,
   "metadata": {},
   "outputs": [],
   "source": [
    "import pandas as pd\n",
    "import numpy as np\n",
    "import matplotlib.pyplot as plt\n",
    "from sklearn.metrics import  precision_recall_curve, roc_auc_score, confusion_matrix, accuracy_score, recall_score, precision_score, f1_score,auc, roc_curve\n",
    "import pandas as pd\n",
    "from sklearn.model_selection import train_test_split\n",
    "from sklearn.preprocessing import MinMaxScaler\n",
    "from sklearn.pipeline import Pipeline\n",
    "from sklearn.ensemble import RandomForestClassifier\n",
    "\n",
    "\n",
    "import mlflow\n",
    "from mlflow.models import infer_signature"
   ]
  },
  {
   "cell_type": "code",
   "execution_count": 2,
   "metadata": {},
   "outputs": [],
   "source": [
    "def total_cost(y_test, y_preds, threshold = 0.5):\n",
    "    \n",
    "    tn, fp, fn, tp = confusion_matrix(y_test == 1, y_preds > threshold).ravel()\n",
    "    \n",
    "    cost_fn = fn*3000\n",
    "    cost_fp = fp*1000\n",
    "    \n",
    "    return cost_fn + cost_fp"
   ]
  },
  {
   "cell_type": "code",
   "execution_count": 3,
   "metadata": {},
   "outputs": [],
   "source": [
    "ROOT_PATH = '../data/'\n",
    "PATH = ROOT_PATH + 'lending_data.csv'\n",
    "TARGET_COL = 'default.payment.next.month'\n",
    "\n",
    "SEED = 42"
   ]
  },
  {
   "cell_type": "code",
   "execution_count": 4,
   "metadata": {},
   "outputs": [],
   "source": [
    "df = pd.read_csv(PATH)"
   ]
  },
  {
   "cell_type": "code",
   "execution_count": 5,
   "metadata": {},
   "outputs": [],
   "source": [
    "df = df.drop('ID', axis = 1)"
   ]
  },
  {
   "cell_type": "code",
   "execution_count": 6,
   "metadata": {},
   "outputs": [],
   "source": [
    "from pathlib import Path\n",
    "\n",
    "uri = \"../../mlruns\"\n",
    "\n",
    "Path(uri).mkdir(parents=True, exist_ok=True)\n",
    "\n",
    "mlflow.set_tracking_uri(uri)"
   ]
  },
  {
   "cell_type": "code",
   "execution_count": 7,
   "metadata": {},
   "outputs": [],
   "source": [
    "random_forest_params = {'bootstrap': True,\n",
    " 'max_depth': None,\n",
    " 'max_samples': None,\n",
    " 'min_weight_fraction_leaf': 0,\n",
    " 'max_leaf_nodes': None,\n",
    " 'class_weight': 'balanced',\n",
    " 'min_samples_leaf': 1,\n",
    " 'random_state': SEED,\n",
    " 'min_impurity_decrease': 0,\n",
    " 'verbose': 0,\n",
    " 'n_estimators': 300,\n",
    " 'criterion': 'gini',\n",
    " 'oob_score': False,\n",
    " 'ccp_alpha': 0,\n",
    " 'warm_start': False,\n",
    " 'max_features': 'sqrt',\n",
    " 'monotonic_cst': None,\n",
    " 'n_jobs': None,\n",
    " 'min_samples_split': 2}"
   ]
  },
  {
   "cell_type": "code",
   "execution_count": 8,
   "metadata": {},
   "outputs": [
    {
     "data": {
      "text/plain": [
       "<Experiment: artifact_location=('/Users/bernardomatos/Documents/Pos_Graduacao_Data_Science/Project '\n",
       " 'OML/OML_BM/notebooks/../../mlruns/471014617806567252'), creation_time=1743545831221, experiment_id='471014617806567252', last_update_time=1743545831221, lifecycle_stage='active', name='Good Clients Prediction Experiment', tags={}>"
      ]
     },
     "execution_count": 8,
     "metadata": {},
     "output_type": "execute_result"
    }
   ],
   "source": [
    "mlflow.set_experiment(\"Good Clients Prediction Experiment\")"
   ]
  },
  {
   "cell_type": "code",
   "execution_count": 9,
   "metadata": {},
   "outputs": [],
   "source": [
    "train_set, test_set = train_test_split(df, test_size = 0.2, random_state = SEED)"
   ]
  },
  {
   "cell_type": "code",
   "execution_count": 10,
   "metadata": {},
   "outputs": [],
   "source": [
    "X_train = train_set.drop(['default.payment.next.month'], axis = 'columns')\n",
    "y_train = train_set['default.payment.next.month']\n",
    "\n",
    "X_test = test_set.drop(['default.payment.next.month'], axis = 1)\n",
    "y_test = test_set['default.payment.next.month']"
   ]
  },
  {
   "cell_type": "code",
   "execution_count": 11,
   "metadata": {},
   "outputs": [
    {
     "data": {
      "text/plain": [
       "'23502ff28afe4ff49f2e0fd550d42c40'"
      ]
     },
     "execution_count": 11,
     "metadata": {},
     "output_type": "execute_result"
    }
   ],
   "source": [
    "run = mlflow.start_run(run_name=\"Random Forest - without scaling\")\n",
    "RUN_ID = run.info.run_uuid\n",
    "RUN_ID"
   ]
  },
  {
   "cell_type": "code",
   "execution_count": 12,
   "metadata": {},
   "outputs": [
    {
     "name": "stderr",
     "output_type": "stream",
     "text": [
      "/opt/anaconda3/envs/OML_Latest/lib/python3.12/site-packages/mlflow/data/dataset_source_registry.py:149: UserWarning: Failed to determine whether UCVolumeDatasetSource can resolve source information for '../data/lending_data.csv'. Exception: \n",
      "  return _dataset_source_registry.resolve(\n",
      "/opt/anaconda3/envs/OML_Latest/lib/python3.12/site-packages/mlflow/data/dataset_source_registry.py:149: UserWarning: The specified dataset source can be interpreted in multiple ways: LocalArtifactDatasetSource, LocalArtifactDatasetSource. MLflow will assume that this is a LocalArtifactDatasetSource source.\n",
      "  return _dataset_source_registry.resolve(\n",
      "/opt/anaconda3/envs/OML_Latest/lib/python3.12/site-packages/mlflow/data/dataset_source_registry.py:149: UserWarning: Failed to determine whether UCVolumeDatasetSource can resolve source information for '../data/lending_data.csv'. Exception: \n",
      "  return _dataset_source_registry.resolve(\n",
      "/opt/anaconda3/envs/OML_Latest/lib/python3.12/site-packages/mlflow/data/dataset_source_registry.py:149: UserWarning: The specified dataset source can be interpreted in multiple ways: LocalArtifactDatasetSource, LocalArtifactDatasetSource. MLflow will assume that this is a LocalArtifactDatasetSource source.\n",
      "  return _dataset_source_registry.resolve(\n",
      "/opt/anaconda3/envs/OML_Latest/lib/python3.12/site-packages/mlflow/types/utils.py:452: UserWarning: Hint: Inferred schema contains integer column(s). Integer columns in Python cannot represent missing values. If your input data contains missing values at inference time, it will be encoded as floats and will cause a schema enforcement error. The best way to avoid this problem is to infer the model schema based on a realistic data sample (training dataset) that includes missing values. Alternatively, you can declare integer columns as doubles (float64) whenever these columns may have missing values. See `Handling Integers With Missing Values <https://www.mlflow.org/docs/latest/models.html#handling-integers-with-missing-values>`_ for more details.\n",
      "  warnings.warn(\n"
     ]
    }
   ],
   "source": [
    "# guardarmos o dataset de treino e de teste associado à run\n",
    "train_dataset = mlflow.data.from_pandas(train_set, source=PATH, targets=TARGET_COL, name=\"Lending Dataset\")\n",
    "test_dataset = mlflow.data.from_pandas(test_set, source=PATH, targets=TARGET_COL, name=\"Lending Dataset\")\n",
    "mlflow.log_input(train_dataset, context=\"train\")\n",
    "mlflow.log_input(test_dataset, context=\"test\")\n",
    "\n",
    "# Guardamos a seed utilizado como parametro\n",
    "mlflow.log_param(\"seed\", SEED)\n",
    "\n",
    "signature = infer_signature(X_train, y_train)"
   ]
  },
  {
   "cell_type": "code",
   "execution_count": 13,
   "metadata": {},
   "outputs": [
    {
     "name": "stderr",
     "output_type": "stream",
     "text": [
      "Registered model 'random_forest' already exists. Creating a new version of this model...\n",
      "Created version '3' of model 'random_forest'.\n"
     ]
    },
    {
     "data": {
      "text/plain": [
       "<mlflow.models.model.ModelInfo at 0x15ad3e300>"
      ]
     },
     "execution_count": 13,
     "metadata": {},
     "output_type": "execute_result"
    }
   ],
   "source": [
    "random_forest = RandomForestClassifier(**random_forest_params)\n",
    "\n",
    "random_forest.fit(X_train, y_train)\n",
    "\n",
    "mlflow.sklearn.log_model(random_forest, artifact_path=\"random_forest\", registered_model_name=\"random_forest\", signature=signature)"
   ]
  },
  {
   "cell_type": "code",
   "execution_count": 14,
   "metadata": {},
   "outputs": [
    {
     "data": {
      "text/plain": [
       "{'bootstrap': True,\n",
       " 'ccp_alpha': 0,\n",
       " 'class_weight': 'balanced',\n",
       " 'criterion': 'gini',\n",
       " 'max_depth': None,\n",
       " 'max_features': 'sqrt',\n",
       " 'max_leaf_nodes': None,\n",
       " 'max_samples': None,\n",
       " 'min_impurity_decrease': 0,\n",
       " 'min_samples_leaf': 1,\n",
       " 'min_samples_split': 2,\n",
       " 'min_weight_fraction_leaf': 0,\n",
       " 'monotonic_cst': None,\n",
       " 'n_estimators': 300,\n",
       " 'n_jobs': None,\n",
       " 'oob_score': False,\n",
       " 'random_state': 42,\n",
       " 'verbose': 0,\n",
       " 'warm_start': False}"
      ]
     },
     "execution_count": 14,
     "metadata": {},
     "output_type": "execute_result"
    }
   ],
   "source": [
    "params=random_forest.get_params()\n",
    "mlflow.log_params(params)\n",
    "params"
   ]
  },
  {
   "cell_type": "code",
   "execution_count": 15,
   "metadata": {},
   "outputs": [],
   "source": [
    "y_preds = random_forest.predict(X_test)"
   ]
  },
  {
   "cell_type": "code",
   "execution_count": 16,
   "metadata": {},
   "outputs": [],
   "source": [
    "mlflow.log_metric(\"accuracy\", accuracy_score(y_test, y_preds))\n",
    "mlflow.log_metric(\"recall\", recall_score(y_test, y_preds))\n",
    "mlflow.log_metric(\"precision\", precision_score(y_test, y_preds))\n",
    "mlflow.log_metric(\"f1\", f1_score(y_test, y_preds))\n",
    "mlflow.log_metric(\"roc_auc\", roc_auc_score(y_test, y_preds))\n",
    "mlflow.log_metric(\"total_cost\", total_cost(y_test, y_preds, threshold = 0.5))"
   ]
  },
  {
   "cell_type": "code",
   "execution_count": 17,
   "metadata": {},
   "outputs": [],
   "source": [
    "mlflow.end_run()"
   ]
  }
 ],
 "metadata": {
  "kernelspec": {
   "display_name": "OML_Latest",
   "language": "python",
   "name": "python3"
  },
  "language_info": {
   "codemirror_mode": {
    "name": "ipython",
    "version": 3
   },
   "file_extension": ".py",
   "mimetype": "text/x-python",
   "name": "python",
   "nbconvert_exporter": "python",
   "pygments_lexer": "ipython3",
   "version": "3.12.2"
  }
 },
 "nbformat": 4,
 "nbformat_minor": 2
}
